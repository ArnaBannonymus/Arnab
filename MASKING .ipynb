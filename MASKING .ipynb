{
 "cells": [
  {
   "cell_type": "code",
   "execution_count": null,
   "metadata": {},
   "outputs": [],
   "source": [
    "# Python program for Detection of a \n",
    "# specific color(blue here) using OpenCV with Python\n",
    "import cv2\n",
    "import numpy as np \n",
    " \n",
    "frame = cv2.imread('out4.png')\n",
    " \n",
    "# Converts images from BGR to HSV\n",
    "hsv = cv2.cvtColor(frame, cv2.COLOR_BGR2HSV)\n",
    "lower_red = np.array([10, 255, 255])\n",
    "upper_red = np.array([179, 255, 255])\n",
    " \n",
    "# Here we are defining range of bluecolor in HSV\n",
    "# This creates a mask of blue coloured \n",
    "# objects found in the frame.\n",
    "mask = cv2.inRange(hsv, lower_red, upper_red)\n",
    " \n",
    "# The bitwise and of the frame and mask is done so \n",
    "# that only the blue coloured objects are highlighted \n",
    "# and stored in res\n",
    "res = cv2.bitwise_and(frame,frame, mask= mask)\n",
    "cv2.imshow('frame',frame)\n",
    "cv2.imshow('res',res)\n",
    "cv2.imshow('mask',mask)\n",
    " \n",
    "# This displays the frame, mask \n",
    "# and res which we created in 3 separate windows.\n",
    "k = cv2.waitKey(0) ; 0xFF\n",
    "#if k == 27:\n",
    " #   break\n",
    " \n",
    "# Destroys all of the HighGUI windows.\n",
    "cv2.destroyAllWindows()\n",
    " \n",
    "# release the captured frame\n",
    "cap.release()"
   ]
  },
  {
   "cell_type": "code",
   "execution_count": 2,
   "metadata": {},
   "outputs": [
    {
     "data": {
      "text/plain": [
       "True"
      ]
     },
     "execution_count": 2,
     "metadata": {},
     "output_type": "execute_result"
    }
   ],
   "source": [
    "import cv2\n",
    "import numpy as np\n",
    "\n",
    "## Read\n",
    "img = cv2.imread(\"out4.png\")\n",
    "\n",
    "## convert to hsv\n",
    "#hsv = cv2.cvtColor(img, cv2.COLOR_BGR2HSV)\n",
    "\n",
    "## mask of green (36,0,0) ~ (70, 255,255)\n",
    "mask = cv2.inRange(hsv, (36, 0, 0), (70, 255,255))\n",
    "\n",
    "## slice the green\n",
    "imask = mask>0\n",
    "green = np.zeros_like(img, np.uint8)\n",
    "green[imask] = img[imask]\n",
    "\n",
    "## save \n",
    "cv2.imwrite(\"green.png\", green)"
   ]
  },
  {
   "cell_type": "code",
   "execution_count": null,
   "metadata": {},
   "outputs": [],
   "source": []
  }
 ],
 "metadata": {
  "kernelspec": {
   "display_name": "Python 3",
   "language": "python",
   "name": "python3"
  },
  "language_info": {
   "codemirror_mode": {
    "name": "ipython",
    "version": 3
   },
   "file_extension": ".py",
   "mimetype": "text/x-python",
   "name": "python",
   "nbconvert_exporter": "python",
   "pygments_lexer": "ipython3",
   "version": "3.6.5"
  }
 },
 "nbformat": 4,
 "nbformat_minor": 2
}
