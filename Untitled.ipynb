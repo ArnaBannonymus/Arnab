{
 "cells": [
  {
   "cell_type": "code",
   "execution_count": 49,
   "metadata": {},
   "outputs": [
    {
     "name": "stderr",
     "output_type": "stream",
     "text": [
      "usage: ipykernel_launcher.py [-h] -i IMAGE [-w WIDTH] [-s COLOR_SPACE]\n",
      "                             [-c CHANNELS] [-n NUM_CLUSTERS] [-o]\n",
      "                             [-f OUTPUT_FORMAT]\n",
      "ipykernel_launcher.py: error: the following arguments are required: -i/--image\n"
     ]
    },
    {
     "ename": "SystemExit",
     "evalue": "2",
     "output_type": "error",
     "traceback": [
      "An exception has occurred, use %tb to see the full traceback.\n",
      "\u001b[1;31mSystemExit\u001b[0m\u001b[1;31m:\u001b[0m 2\n"
     ]
    },
    {
     "name": "stderr",
     "output_type": "stream",
     "text": [
      "C:\\Users\\Bipasha Roy\\Anaconda3\\lib\\site-packages\\IPython\\core\\interactiveshell.py:2971: UserWarning: To exit: use 'exit', 'quit', or Ctrl-D.\n",
      "  warn(\"To exit: use 'exit', 'quit', or Ctrl-D.\", stacklevel=1)\n"
     ]
    }
   ],
   "source": [
    "import numpy as np\n",
    "from sklearn.cluster import KMeans\n",
    "import argparse\n",
    "import cv2\n",
    "import datetime\n",
    "\n",
    "ap = argparse.ArgumentParser()\n",
    "ap.add_argument('-i', '--image', required=True, help='C:/Users/Bipasha Roy/IMAGE PROCESSING/image.png')\n",
    "ap.add_argument('-w', '--width', type=int, default=0,\n",
    "    help='1000')\n",
    "ap.add_argument('-s', '--color-space', type=str, default='bgr',\n",
    "    help='Color space to use: BGR (default), HSV, Lab, YCrCb (YCC)')\n",
    "ap.add_argument('-c', '--channels', type=str, default='all',\n",
    "    help='Channel indices to use for clustering, where 0 is the first channel,'\n",
    "    + ' 1 is the second channel, etc. E.g., if BGR color space is used, \"02\" '\n",
    "    + 'selects channels B and R. (default \"all\")')\n",
    "ap.add_argument('-n', '--num-clusters', type=int, default=3,\n",
    "    help='Number of clusters for K-means clustering (default 3, min 2).')\n",
    "ap.add_argument('-o', '--output-file', action='store_true',\n",
    "    help='Save output image (side-by-side comparison of original image and'\n",
    "    + ' clustering result) to disk.')\n",
    "ap.add_argument('-f', '--output-format', type=str, default='png',\n",
    "    help='File extension for output image (default png)')\n",
    "\n",
    "args = vars(ap.parse_args())\n",
    "image = cv2.imread(args['image'])\n",
    "\n",
    "# Resize image and make a copy of the original (resized) image.\n",
    "if args['width'] > 0:\n",
    "    height = int((args['width'] / image.shape[1]) * image.shape[0])\n",
    "    image = cv2.resize(image, (args['width'], height),\n",
    "        interpolation=cv2.INTER_AREA)\n",
    "orig = image.copy()\n",
    "\n",
    "# Change image color space, if necessary.\n",
    "colorSpace = args['color_space'].lower()\n",
    "if colorSpace == 'hsv':\n",
    "    image = cv2.cvtColor(image, cv2.COLOR_BGR2HSV)\n",
    "elif colorSpace == 'ycrcb' or colorSpace == 'ycc':\n",
    "    image = cv2.cvtColor(image, cv2.COLOR_BGR2YCrCb)\n",
    "elif colorSpace == 'lab':\n",
    "    image = cv2.cvtColor(image, cv2.COLOR_BGR2LAB)\n",
    "else:\n",
    "    colorSpace = 'bgr'  # set for file naming purposes\n",
    "\n",
    "# Keep only the selected channels for K-means clustering.\n",
    "if args['channels'] != 'all':\n",
    "    channels = cv2.split(image)\n",
    "    channelIndices = []\n",
    "    for char in args['channels']:\n",
    "        channelIndices.append(int(char))\n",
    "    image = image[:,:,channelIndices]\n",
    "    if len(image.shape) == 2:\n",
    "        image.reshape(image.shape[0], image.shape[1], 1)\n",
    "\n",
    "# Flatten the 2D image array into an MxN feature vector, where M is\n",
    "# the number of pixels and N is the dimension (number of channels).\n",
    "reshaped = image.reshape(image.shape[0] * image.shape[1], image.shape[2])\n",
    "\n",
    "# Perform K-means clustering.\n",
    "if args['num_clusters'] < 2:\n",
    "    print('Warning: num-clusters < 2 invalid. Using num-clusters = 2')\n",
    "numClusters = max(2, args['num_clusters'])\n",
    "kmeans = KMeans(n_clusters=numClusters, n_init=40, max_iter=500).fit(reshaped)\n",
    "\n",
    "# Reshape result back into a 2D array, where each element represents the\n",
    "# corresponding pixel's cluster index (0 to K - 1).\n",
    "clustering = np.reshape(np.array(kmeans.labels_, dtype=np.uint8),\n",
    "    (image.shape[0], image.shape[1]))\n",
    "\n",
    "# Sort the cluster labels in order of the frequency with which they occur.\n",
    "sortedLabels = sorted([n for n in range(numClusters)],\n",
    "    key=lambda x: -np.sum(clustering == x))\n",
    "\n",
    "# Initialize K-means grayscale image; set pixel colors based on clustering.\n",
    "kmeansImage = np.zeros(image.shape[:2], dtype=np.uint8)\n",
    "for i, label in enumerate(sortedLabels):\n",
    "    kmeansImage[clustering == label] = int(255 / (numClusters - 1)) * i\n",
    "\n",
    "# Concatenate original image and K-means image, separated by a gray strip.\n",
    "concatImage = np.concatenate((orig,\n",
    "    193 * np.ones((orig.shape[0], int(0.0625 * orig.shape[1]), 3), dtype=np.uint8),\n",
    "    cv2.cvtColor(kmeansImage, cv2.COLOR_GRAY2BGR)), axis=1)\n",
    "cv2.imshow('Original vs clustered', concatImage)\n",
    "\n",
    "if args['output_file']:\n",
    "    # Construct timestamped output filename and write image to disk.\n",
    "    dt = datetime.datetime.now()\n",
    "    fileExtension = args['output_format']\n",
    "    filename = (str(dt.year) + str(dt.month) + str(dt.day) + str(dt.hour)\n",
    "        + str(dt.minute) + str(dt.second) + colorSpace + '_c' + args['channels']\n",
    "        + 'n' + str(numClusters) + '.' + fileExtension)\n",
    "    cv2.imwrite(filename, concatImage)\n",
    "cv2.waitKey(0)\n"
   ]
  },
  {
   "cell_type": "code",
   "execution_count": null,
   "metadata": {},
   "outputs": [],
   "source": [
    "import cv2\n",
    "import numpy as np\n",
    "image=cv2.imread('output.png', -1)\n",
    "class Segment:\n",
    "    def __init__(self,segments=3):\n",
    "        #define number of segments, with default 5\n",
    "        self.segments=segments"
   ]
  },
  {
   "cell_type": "code",
   "execution_count": null,
   "metadata": {},
   "outputs": [],
   "source": [
    "def kmeans(self,image):\n",
    "    #Preprocessing step\n",
    "    image=cv2.GaussianBlur(image,(7,7),0)\n",
    "    vectorized=image.reshape(-1,3)\n",
    "    vectorized=np.float32(vectorized)\n",
    "    criteria=(cv2.TERM_CRITERIA_EPS + cv2.TERM_CRITERIA_MAX_ITER,\n",
    "            10, 1.0)\n",
    "    ret,label,center=cv2.kmeans(vectorized,self.segments,None,criteria,10,cv2.KMEANS_RANDOM_CENTERS)            \n",
    "    res = center[label.flatten()]\n",
    "    segmented_image = res.reshape((image.shape))\n",
    "    return label.reshape((image.shape[0],image.shape[1])),segmented_image.astype(np.uint8)            "
   ]
  },
  {
   "cell_type": "markdown",
   "metadata": {},
   "source": [
    " if __name__==\"__main__\":\n",
    "    import argparse\n",
    "    import sys\n",
    "    ap = argparse.ArgumentParser()\n",
    "    ap.add_argument(\"-i\", \"--image\", required = True,help = \"image.png\")                \n",
    "    ap.add_argument(\"-n\", \"--segments\", required = False,type = int,  help = '3')               \n",
    "    args = vars(ap.parse_args())"
   ]
  },
  {
   "cell_type": "code",
   "execution_count": null,
   "metadata": {},
   "outputs": [],
   "source": [
    "if len(sys.argv)==3:\n",
    "    seg = Segment()\n",
    "    label,result= seg.kmeans(image)\n",
    "else:\n",
    "    seg=Segment(3)\n",
    "    label,result=seg.kmeans(image)"
   ]
  },
  {
   "cell_type": "code",
   "execution_count": null,
   "metadata": {},
   "outputs": [],
   "source": [
    "cv2.imshow(\"input\",image)\n",
    "cv2.imshow(\"segmented\",result)\n",
    "cv2.waitKey(0)"
   ]
  },
  {
   "cell_type": "code",
   "execution_count": null,
   "metadata": {},
   "outputs": [],
   "source": [
    "def extractComponent(self,image,label_image,label):\n",
    "    component=np.zeros(image.shape,np.uint8)\n",
    "    component[label_image==label]=image[label_image==label]\n",
    "    return component"
   ]
  },
  {
   "cell_type": "code",
   "execution_count": null,
   "metadata": {},
   "outputs": [],
   "source": [
    "extracted=seg.extractComponent(image,label,2)\n",
    "cv2.imshow(\"extracted\",extracted)\n",
    "cv2.waitKey(0)\n"
   ]
  },
  {
   "cell_type": "code",
   "execution_count": null,
   "metadata": {},
   "outputs": [],
   "source": []
  }
 ],
 "metadata": {
  "kernelspec": {
   "display_name": "Python 3",
   "language": "python",
   "name": "python3"
  },
  "language_info": {
   "codemirror_mode": {
    "name": "ipython",
    "version": 3
   },
   "file_extension": ".py",
   "mimetype": "text/x-python",
   "name": "python",
   "nbconvert_exporter": "python",
   "pygments_lexer": "ipython3",
   "version": "3.6.5"
  }
 },
 "nbformat": 4,
 "nbformat_minor": 2
}
